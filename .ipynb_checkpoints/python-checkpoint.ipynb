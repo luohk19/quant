{
 "cells": [
  {
   "cell_type": "markdown",
   "metadata": {},
   "source": [
    "# 1\n",
    "1. 使用List[ Dict ], 或者List[ 自定义的Class ]\n",
    "2. 具体代码如下"
   ]
  },
  {
   "cell_type": "code",
   "execution_count": null,
   "metadata": {},
   "outputs": [],
   "source": [
    "tongXunLu = []\n",
    "friend = {}\n",
    "friend['name'] = input('name:')\n",
    "friend['tel'] = input('tel:')\n",
    "tongXunLu.append(friend)\n",
    "print(tongXunLu)"
   ]
  },
  {
   "cell_type": "markdown",
   "metadata": {},
   "source": [
    "# 2"
   ]
  },
  {
   "cell_type": "code",
   "execution_count": null,
   "metadata": {},
   "outputs": [],
   "source": [
    "import random\n",
    "faces=['two','three','four','five','six','seven','eight','nine','ten','jack','queen','king','ace']\n",
    "\n",
    "my_face=random.choice(faces)\n",
    "print(my_face)\n",
    "#you_face=random.choice(faces)\n",
    "you_face=input('Input your face:')\n",
    "print(\"\\n\")\n",
    "print(you_face)\n",
    "you_id = faces.index(you_face)\n",
    "my_id = faces.index(my_face)\n",
    "if you_face not in faces:\n",
    "    print('invalid input')\n",
    "elif you_id > my_id:\n",
    "    print('you won')\n",
    "elif you_id == my_id:\n",
    "    print('tie')\n",
    "else:\n",
    "    print('you lost')"
   ]
  },
  {
   "cell_type": "markdown",
   "metadata": {},
   "source": [
    "# 3"
   ]
  },
  {
   "cell_type": "code",
   "execution_count": 31,
   "metadata": {},
   "outputs": [
    {
     "name": "stdout",
     "output_type": "stream",
     "text": [
      "[1, 4, 9, 16, 25]\n"
     ]
    }
   ],
   "source": [
    "a_list = [1, 2, 3, 4, 5]\n",
    "squared_list = [x**2 for x in a_list]\n",
    "print(squared_list)"
   ]
  },
  {
   "cell_type": "markdown",
   "metadata": {},
   "source": [
    "# 4"
   ]
  },
  {
   "cell_type": "code",
   "execution_count": null,
   "metadata": {},
   "outputs": [
    {
     "name": "stdout",
     "output_type": "stream",
     "text": [
      "Rock crushes scissors. Scissors cut paper. Paper covers rock.\n",
      "Do you want to be rock, paper or scissors (or quit)?scissors\n",
      "your choice: scissors\n",
      "coms choice: paper\n",
      "com_id: 1\n",
      "you_id: 2\n",
      "you won\n",
      "Do you want to be rock, paper or scissors (or quit)?rock\n",
      "your choice: rock\n",
      "coms choice: scissors\n",
      "com_id: 2\n",
      "you_id: 0\n",
      "you won\n",
      "Do you want to be rock, paper or scissors (or quit)?rock\n",
      "your choice: rock\n",
      "coms choice: rock\n",
      "com_id: 0\n",
      "you_id: 0\n",
      "tie\n",
      "Do you want to be rock, paper or scissors (or quit)?rock\n",
      "your choice: rock\n",
      "coms choice: scissors\n",
      "com_id: 2\n",
      "you_id: 0\n",
      "you won\n",
      "Do you want to be rock, paper or scissors (or quit)?rock\n",
      "your choice: rock\n",
      "coms choice: scissors\n",
      "com_id: 2\n",
      "you_id: 0\n",
      "you won\n",
      "Do you want to be rock, paper or scissors (or quit)?rock\n",
      "your choice: rock\n",
      "coms choice: paper\n",
      "com_id: 1\n",
      "you_id: 0\n",
      "you lose\n"
     ]
    }
   ],
   "source": [
    "import random\n",
    "choices = ['rock','paper','scissors']\n",
    "print('Rock crushes scissors. Scissors cut paper. Paper covers rock.')\n",
    "player = input('Do you want to be rock, paper or scissors (or quit)?')\n",
    "while player != 'quit':\n",
    "    if player not in choices:\n",
    "        print('invalid input')\n",
    "        break\n",
    "    you_id = choices.index(player)\n",
    "    print('your choice:', player)\n",
    "    com_player = random.choice(choices)\n",
    "    print('coms choice:', com_player)\n",
    "    com_id = choices.index(com_player)\n",
    "    if you_id == (com_id + 1) % 3:\n",
    "        print('you won')\n",
    "    elif com_id == you_id:\n",
    "        print('tie')\n",
    "    else:\n",
    "        print('you lose')\n",
    "    \n",
    "    player = input('Do you want to be rock, paper or scissors (or quit)?')"
   ]
  },
  {
   "cell_type": "markdown",
   "metadata": {},
   "source": [
    "# 5"
   ]
  },
  {
   "cell_type": "code",
   "execution_count": null,
   "metadata": {},
   "outputs": [],
   "source": [
    "class Cat:\n",
    "    def __init__(self, color, jump) -> None:\n",
    "        self.color = color\n",
    "        self.jump = jump\n",
    "\n",
    "cat = Cat('black', 2)"
   ]
  },
  {
   "cell_type": "markdown",
   "metadata": {},
   "source": [
    "# 6"
   ]
  },
  {
   "cell_type": "code",
   "execution_count": null,
   "metadata": {},
   "outputs": [],
   "source": [
    "import matplotlib.pyplot as plt\n",
    "x = [10,20,40,60,100]\n",
    "y = [40,20,50,70,10]\n",
    "plt.scatter(x, y)\n",
    "plt.show()"
   ]
  },
  {
   "cell_type": "markdown",
   "metadata": {},
   "source": [
    "# 7"
   ]
  },
  {
   "cell_type": "code",
   "execution_count": null,
   "metadata": {},
   "outputs": [],
   "source": [
    "import numpy as np\n",
    "\n",
    "x = np.linspace(-np.pi, np.pi, 256)\n",
    "cosx = np.cos(x)\n",
    "plt.plot(x, cosx)\n",
    "plt.show()"
   ]
  },
  {
   "cell_type": "markdown",
   "metadata": {},
   "source": [
    "# 8"
   ]
  },
  {
   "cell_type": "code",
   "execution_count": 13,
   "metadata": {},
   "outputs": [
    {
     "name": "stdout",
     "output_type": "stream",
     "text": [
      "4\n"
     ]
    }
   ],
   "source": [
    "from random import randint\n",
    "class Dice():\n",
    "    def __init__(self,num_sides=6):\n",
    "        self.num_sides = num_sides\n",
    "    def roll(self):\n",
    "        return randint(1,self.num_sides)\n",
    "\n",
    "dice = Dice()\n",
    "print(dice.roll())"
   ]
  },
  {
   "cell_type": "markdown",
   "metadata": {},
   "source": [
    "# 9"
   ]
  },
  {
   "cell_type": "code",
   "execution_count": 8,
   "metadata": {},
   "outputs": [
    {
     "name": "stdout",
     "output_type": "stream",
     "text": [
      "[1, 2, 3, 4, 5, 6]\n",
      "[163, 166, 194, 134, 172, 171]\n"
     ]
    },
    {
     "data": {
      "image/png": "[encoded data removed]",
      "text/plain": [
       "<Figure size 432x288 with 1 Axes>"
      ]
     },
     "metadata": {},
     "output_type": "display_data"
    }
   ],
   "source": [
    "from random import randint\n",
    "results = [ ]\n",
    "for roll_num in range(1000):\n",
    "    result = randint(1,6)\n",
    "    results.append(result)\n",
    "x = [i for i in range(1, 7)]\n",
    "print(x)\n",
    "frequencies = [ ]\n",
    "for value in range(1,7):\n",
    "    frequency = results.count(value)\n",
    "    frequencies.append(frequency)\n",
    "print(frequencies)\n",
    "plt.bar(x, frequencies)\n",
    "plt.show()"
   ]
  },
  {
   "cell_type": "markdown",
   "metadata": {},
   "source": [
    "# 10"
   ]
  },
  {
   "cell_type": "code",
   "execution_count": 22,
   "metadata": {},
   "outputs": [
    {
     "data": {
      "text/plain": [
       "3.141644"
      ]
     },
     "execution_count": 22,
     "metadata": {},
     "output_type": "execute_result"
    }
   ],
   "source": [
    "# monte-carlo\n",
    "import random\n",
    "def monte_carlo(simu=1000000):\n",
    "    cnt = 0\n",
    "    for i in range(simu):\n",
    "        x = random.random()\n",
    "        y = random.random()\n",
    "        if x**2 + y**2 <= 1:\n",
    "           cnt += 1\n",
    "    return cnt / simu * 4\n",
    "\n",
    "monte_carlo()"
   ]
  },
  {
   "cell_type": "code",
   "execution_count": 23,
   "metadata": {},
   "outputs": [
    {
     "name": "stdout",
     "output_type": "stream",
     "text": [
      "3.1415946535856922\n"
     ]
    }
   ],
   "source": [
    "# taylor\n",
    "def taylor(precision=1e-6):\n",
    "    k = 0\n",
    "    delta = 1\n",
    "    pi = 0\n",
    "    while abs(delta) > precision:\n",
    "        delta = (-1) ** k * (1 / (2 * k + 1))\n",
    "        pi += delta\n",
    "        k += 1\n",
    "    return pi * 4\n",
    "print(taylor())"
   ]
  },
  {
   "cell_type": "code",
   "execution_count": null,
   "metadata": {},
   "outputs": [],
   "source": []
  }
 ],
 "metadata": {
  "kernelspec": {
   "display_name": "Python 3",
   "language": "python",
   "name": "python3"
  },
  "vscode": {
   "interpreter": {
    "hash": "55840b1ca0999d73fa3572b01178e0443affcc2fe4502eb5ed041d82f69a4921"
   }
  }
 },
 "nbformat": 4,
 "nbformat_minor": 2
}
