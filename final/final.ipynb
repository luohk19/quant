{
 "cells": [
  {
   "cell_type": "markdown",
   "metadata": {},
   "source": [
    "# Part I 数据导入"
   ]
  },
  {
   "cell_type": "code",
   "execution_count": null,
   "metadata": {},
   "outputs": [
    {
     "ename": "",
     "evalue": "",
     "output_type": "error",
     "traceback": [
      "\u001b[1;31mRunning cells with 'Python 2.7.18 64-bit' requires ipykernel package.\n",
      "\u001b[1;31mRun the following command to install 'ipykernel' into the Python environment. \n",
      "\u001b[1;31mCommand: '/bin/python2 -m pip install ipykernel -U --user --force-reinstall'"
     ]
    }
   ],
   "source": [
    "import numpy as np\n",
    "import pandas as pd\n",
    "import torch\n",
    "\n",
    "def read_files():\n",
    "    listFrame = []\n",
    "    for i in range(10):\n",
    "        for j in range(79):\n",
    "            for date in ['am', 'pm']:\n",
    "                try:\n",
    "                    frame = pd.read_csv(f'../data/snapshot_sym{i}_date{j}_{date}.csv')\n",
    "                    listFrame.append(frame)\n",
    "                except:\n",
    "                    pass\n",
    "    return listFrame\n",
    "\n",
    "listFrame = read_files()\n",
    "len(listFrame)\n"
   ]
  },
  {
   "cell_type": "code",
   "execution_count": 103,
   "metadata": {},
   "outputs": [],
   "source": [
    "test_frame = pd.read_csv(f'../data/snapshot_sym0_date0_am.csv')"
   ]
  },
  {
   "cell_type": "code",
   "execution_count": 112,
   "metadata": {},
   "outputs": [
    {
     "data": {
      "text/plain": [
       "n_bsize5    False\n",
       "n_ask1      False\n",
       "n_asize1    False\n",
       "n_ask2      False\n",
       "n_asize2    False\n",
       "n_ask3      False\n",
       "n_asize3    False\n",
       "n_ask4      False\n",
       "n_asize4    False\n",
       "n_ask5      False\n",
       "n_asize5    False\n",
       "dtype: bool"
      ]
     },
     "execution_count": 112,
     "metadata": {},
     "output_type": "execute_result"
    }
   ],
   "source": [
    "test_frame = test_frame.iloc[:, 3:26]\n",
    "test_frame = (test_frame - test_frame.min()) / (test_frame.max()-test_frame.min())\n",
    "test_frame.isnull().any()"
   ]
  },
  {
   "cell_type": "markdown",
   "metadata": {},
   "source": [
    "## Part II 特征工程"
   ]
  },
  {
   "cell_type": "code",
   "execution_count": 96,
   "metadata": {},
   "outputs": [
    {
     "name": "stdout",
     "output_type": "stream",
     "text": [
      "(1521, 1999, 28) (1521, 1999, 5)\n"
     ]
    }
   ],
   "source": [
    "def pre_process(df):\n",
    "    labels = df.iloc[:, -5:]\n",
    "    df = df.iloc[:, 3:26]\n",
    "    df = (df - df.min()) / (df.max() - df.max())\n",
    "    for i in [5, 10, 20, 40, 60]:\n",
    "        labels[f'label_{i}'].shift(-i) \n",
    "    return np.array(df), np.array(labels)\n",
    "\n",
    "def train_data(X):\n",
    "    # X -> listd f[dataFrame]\n",
    "    df_list = []\n",
    "    label_list = []\n",
    "    for x in X:\n",
    "        df, label = pre_process(x)\n",
    "        df_list.append(df)\n",
    "        label_list.append(label)\n",
    "    df_list = np.array(df_list)\n",
    "    label_list = np.array(label_list)\n",
    "    return df_list, label_list\n",
    "\n",
    "df_list, label_list = train_data(listFrame)\n",
    "print(df_list.shape, label_list.shape)\n",
    "# list[file] -> list[dataFrame:[1999,33]] -> list[([1999, 28], [1999, 5])] -> "
   ]
  },
  {
   "cell_type": "code",
   "execution_count": 97,
   "metadata": {},
   "outputs": [
    {
     "name": "stdout",
     "output_type": "stream",
     "text": [
      "(56277, 100, 28) (56277, 5)\n"
     ]
    }
   ],
   "source": [
    "def get_X_and_y(df_list, label_list):\n",
    "    file_num = 1521\n",
    "    X = []\n",
    "    y = []\n",
    "    for i in range(file_num):\n",
    "        for j in range(0, 1839, 50):\n",
    "            # print(label_list[i][j:j+100])\n",
    "            X.append(df_list[i][j:j+100])\n",
    "            y.append(label_list[i][j+100])\n",
    "    \n",
    "    X = np.array(X)\n",
    "    y = np.array(y)\n",
    "    print(X.shape, y.shape)\n",
    "    return X, y\n",
    "\n",
    "X, y = get_X_and_y(df_list, label_list)"
   ]
  },
  {
   "cell_type": "code",
   "execution_count": 98,
   "metadata": {},
   "outputs": [
    {
     "name": "stdout",
     "output_type": "stream",
     "text": [
      "(53463, 100, 28) (2814, 100, 28) (53463, 5) (2814, 5)\n"
     ]
    }
   ],
   "source": [
    "from sklearn.model_selection import train_test_split\n",
    "\n",
    "X_train, X_test, y_train, y_test = train_test_split(X, y, test_size=0.05)\n",
    "print(X_train.shape, X_test.shape, y_train.shape, y_test.shape)"
   ]
  },
  {
   "cell_type": "code",
   "execution_count": 107,
   "metadata": {},
   "outputs": [],
   "source": [
    "import torch.utils.data as data\n",
    "import torch.nn as nn\n",
    "class DataSet(data.Dataset):\n",
    "    def __init__(self, frame, label):\n",
    "        self.frame = frame\n",
    "        self.label = label\n",
    "    \n",
    "    def __getitem__(self, index):\n",
    "        return self.frame[index], self.label[index]\n",
    "    \n",
    "    def __len__(self):\n",
    "        return len(self.frame)\n",
    "\n",
    "class QuantModel(nn.Module):\n",
    "    def __init__(self, input_size, hidden_size, output_size, num_layers=1):\n",
    "        super(QuantModel, self).__init__()\n",
    "        self.rnn = nn.RNN(\n",
    "            input_size=input_size,\n",
    "            hidden_size=hidden_size,\n",
    "            num_layers=num_layers,\n",
    "            batch_first=True\n",
    "        )\n",
    "        for p in self.rnn.parameters():\n",
    "            nn.init.normal_(p, mean=0.0, std=0.001)\n",
    "        self.fc1 = nn.Linear(hidden_size, output_size)\n",
    "        self.fc2 = nn.Linear(hidden_size, output_size)\n",
    "        self.fc3 = nn.Linear(hidden_size, output_size)\n",
    "        self.fc4 = nn.Linear(hidden_size, output_size)\n",
    "        self.fc5 = nn.Linear(hidden_size, output_size)\n",
    "        self.softmax = nn.Softmax(dim=2)\n",
    "    \n",
    "    def forward(self, X, hidden):\n",
    "        # X         -> [batch, seqlen, input_size]\n",
    "        # hidden    -> [num_layers, batch, hidden_size]\n",
    "        X, hidden = self.rnn(X, hidden)\n",
    "        # X         -> [batch, seqlen, hidden_size]\n",
    "        X = X[:, -1, :].unsqueeze(1)\n",
    "        # print('x:', X.shape)\n",
    "        fc1 = self.softmax(self.fc1(X))\n",
    "        fc2 = self.softmax(self.fc2(X))\n",
    "        fc3 = self.softmax(self.fc3(X))\n",
    "        fc4 = self.softmax(self.fc4(X))\n",
    "        fc5 = self.softmax(self.fc5(X))\n",
    "        res = torch.concat([fc1, fc2, fc3, fc4, fc5], dim=1)\n",
    "        # print(res.shape)\n",
    "        return res"
   ]
  },
  {
   "cell_type": "code",
   "execution_count": 108,
   "metadata": {},
   "outputs": [
    {
     "name": "stdout",
     "output_type": "stream",
     "text": [
      "loss:nan, accuracy:20.838665008544922%\n"
     ]
    },
    {
     "ename": "KeyboardInterrupt",
     "evalue": "",
     "output_type": "error",
     "traceback": [
      "\u001b[0;31m---------------------------------------------------------------------------\u001b[0m",
      "\u001b[0;31mKeyboardInterrupt\u001b[0m                         Traceback (most recent call last)",
      "\u001b[1;32m/home/luohk19/quant/final/final.ipynb Cell 9\u001b[0m in \u001b[0;36m<cell line: 43>\u001b[0;34m()\u001b[0m\n\u001b[1;32m     <a href='vscode-notebook-cell://wsl%2Bubuntu-20.04/home/luohk19/quant/final/final.ipynb#X12sdnNjb2RlLXJlbW90ZQ%3D%3D?line=36'>37</a>\u001b[0m         \u001b[39m# print test result and loss\u001b[39;00m\n\u001b[1;32m     <a href='vscode-notebook-cell://wsl%2Bubuntu-20.04/home/luohk19/quant/final/final.ipynb#X12sdnNjb2RlLXJlbW90ZQ%3D%3D?line=37'>38</a>\u001b[0m         \u001b[39mprint\u001b[39m(\u001b[39mf\u001b[39m\u001b[39m'\u001b[39m\u001b[39mloss:\u001b[39m\u001b[39m{\u001b[39;00mloss\u001b[39m}\u001b[39;00m\u001b[39m, accuracy:\u001b[39m\u001b[39m{\u001b[39;00macc\u001b[39m}\u001b[39;00m\u001b[39m%\u001b[39m\u001b[39m'\u001b[39m)\n\u001b[0;32m---> <a href='vscode-notebook-cell://wsl%2Bubuntu-20.04/home/luohk19/quant/final/final.ipynb#X12sdnNjb2RlLXJlbW90ZQ%3D%3D?line=42'>43</a>\u001b[0m train(model, optimizer, X_train, X_test, y_train, y_test)\n",
      "\u001b[1;32m/home/luohk19/quant/final/final.ipynb Cell 9\u001b[0m in \u001b[0;36mtrain\u001b[0;34m(model, optimizer, X_train, X_test, y_train, y_test, max_epochs, batch_size, criterion)\u001b[0m\n\u001b[1;32m     <a href='vscode-notebook-cell://wsl%2Bubuntu-20.04/home/luohk19/quant/final/final.ipynb#X12sdnNjb2RlLXJlbW90ZQ%3D%3D?line=23'>24</a>\u001b[0m         loss \u001b[39m+\u001b[39m\u001b[39m=\u001b[39m criterion(pred[:, i, :], label[:, i])\n\u001b[1;32m     <a href='vscode-notebook-cell://wsl%2Bubuntu-20.04/home/luohk19/quant/final/final.ipynb#X12sdnNjb2RlLXJlbW90ZQ%3D%3D?line=25'>26</a>\u001b[0m     model\u001b[39m.\u001b[39mzero_grad()\n\u001b[0;32m---> <a href='vscode-notebook-cell://wsl%2Bubuntu-20.04/home/luohk19/quant/final/final.ipynb#X12sdnNjb2RlLXJlbW90ZQ%3D%3D?line=26'>27</a>\u001b[0m     loss\u001b[39m.\u001b[39;49mbackward()\n\u001b[1;32m     <a href='vscode-notebook-cell://wsl%2Bubuntu-20.04/home/luohk19/quant/final/final.ipynb#X12sdnNjb2RlLXJlbW90ZQ%3D%3D?line=27'>28</a>\u001b[0m     optimizer\u001b[39m.\u001b[39mstep()\n\u001b[1;32m     <a href='vscode-notebook-cell://wsl%2Bubuntu-20.04/home/luohk19/quant/final/final.ipynb#X12sdnNjb2RlLXJlbW90ZQ%3D%3D?line=28'>29</a>\u001b[0m loss \u001b[39m=\u001b[39m loss\u001b[39m.\u001b[39mitem()\n",
      "File \u001b[0;32m~/anaconda3/envs/quant/lib/python3.9/site-packages/torch/_tensor.py:487\u001b[0m, in \u001b[0;36mTensor.backward\u001b[0;34m(self, gradient, retain_graph, create_graph, inputs)\u001b[0m\n\u001b[1;32m    477\u001b[0m \u001b[39mif\u001b[39;00m has_torch_function_unary(\u001b[39mself\u001b[39m):\n\u001b[1;32m    478\u001b[0m     \u001b[39mreturn\u001b[39;00m handle_torch_function(\n\u001b[1;32m    479\u001b[0m         Tensor\u001b[39m.\u001b[39mbackward,\n\u001b[1;32m    480\u001b[0m         (\u001b[39mself\u001b[39m,),\n\u001b[0;32m   (...)\u001b[0m\n\u001b[1;32m    485\u001b[0m         inputs\u001b[39m=\u001b[39minputs,\n\u001b[1;32m    486\u001b[0m     )\n\u001b[0;32m--> 487\u001b[0m torch\u001b[39m.\u001b[39;49mautograd\u001b[39m.\u001b[39;49mbackward(\n\u001b[1;32m    488\u001b[0m     \u001b[39mself\u001b[39;49m, gradient, retain_graph, create_graph, inputs\u001b[39m=\u001b[39;49minputs\n\u001b[1;32m    489\u001b[0m )\n",
      "File \u001b[0;32m~/anaconda3/envs/quant/lib/python3.9/site-packages/torch/autograd/__init__.py:197\u001b[0m, in \u001b[0;36mbackward\u001b[0;34m(tensors, grad_tensors, retain_graph, create_graph, grad_variables, inputs)\u001b[0m\n\u001b[1;32m    192\u001b[0m     retain_graph \u001b[39m=\u001b[39m create_graph\n\u001b[1;32m    194\u001b[0m \u001b[39m# The reason we repeat same the comment below is that\u001b[39;00m\n\u001b[1;32m    195\u001b[0m \u001b[39m# some Python versions print out the first line of a multi-line function\u001b[39;00m\n\u001b[1;32m    196\u001b[0m \u001b[39m# calls in the traceback and some print out the last line\u001b[39;00m\n\u001b[0;32m--> 197\u001b[0m Variable\u001b[39m.\u001b[39;49m_execution_engine\u001b[39m.\u001b[39;49mrun_backward(  \u001b[39m# Calls into the C++ engine to run the backward pass\u001b[39;49;00m\n\u001b[1;32m    198\u001b[0m     tensors, grad_tensors_, retain_graph, create_graph, inputs,\n\u001b[1;32m    199\u001b[0m     allow_unreachable\u001b[39m=\u001b[39;49m\u001b[39mTrue\u001b[39;49;00m, accumulate_grad\u001b[39m=\u001b[39;49m\u001b[39mTrue\u001b[39;49;00m)\n",
      "\u001b[0;31mKeyboardInterrupt\u001b[0m: "
     ]
    }
   ],
   "source": [
    "input_size = 28\n",
    "hidden_size = 28\n",
    "model = QuantModel(input_size=28, hidden_size=28, output_size=3)\n",
    "criterion = nn.CrossEntropyLoss()\n",
    "optimizer = torch.optim.SGD(model.parameters(), lr=0.001)\n",
    "X_test = torch.Tensor(X_test)\n",
    "y_test = torch.Tensor(y_test)\n",
    "X_test = X_test.to(torch.float32)\n",
    "y_test = y_test.to(torch.int64)\n",
    "def train(model, optimizer, X_train, X_test, y_train, y_test, max_epochs=10, batch_size=64, criterion=nn.CrossEntropyLoss()):\n",
    "    '''\n",
    "    '''\n",
    "    for epoch in range(max_epochs):\n",
    "        train_loader = data.DataLoader(DataSet(X_train, y_train), batch_size=64, shuffle=False)\n",
    "        for frame, label in train_loader:\n",
    "            # training, frame -> [batch_size, 100, 28]\n",
    "            # print(frame.shape, label.shape)\n",
    "            # pred -> [batch_size, 5, 3], label -> [batch_size, 5]\n",
    "            frame = frame.to(torch.float32)\n",
    "            label = label.to(torch.int64)\n",
    "            hidden = torch.zeros([1, frame.shape[0], hidden_size], dtype=torch.float32)\n",
    "            pred = model(frame, hidden)\n",
    "            loss = 0\n",
    "            for i in range(5):\n",
    "                loss += criterion(pred[:, i, :], label[:, i])\n",
    "            \n",
    "            model.zero_grad()\n",
    "            loss.backward()\n",
    "            optimizer.step()\n",
    "        loss = loss.item()\n",
    "        hidden = torch.zeros([1, X_test.shape[0], hidden_size], dtype=torch.float32)\n",
    "        pred = model(X_test, hidden)\n",
    "        # print(pred)\n",
    "        label_pred = torch.argmax(pred, dim=-1) # [batch_size, 5]\n",
    "        correctness = label_pred == y_test\n",
    "        # print(label_pred)\n",
    "        acc = torch.sum(correctness) / (correctness.shape[0] * correctness.shape[1]) * 100\n",
    "        # print test result and loss\n",
    "        print(f'loss:{loss}, accuracy:{acc}%')\n",
    "\n",
    "\n",
    "train(model, optimizer, X_train, X_test, y_train, y_test)"
   ]
  },
  {
   "cell_type": "code",
   "execution_count": null,
   "metadata": {},
   "outputs": [],
   "source": [
    "# todo: Predictor类\n",
    "def predict(df:pd.DataFrame):\n",
    "    df, label = pre_process(df)\n",
    "    print(df.shape, label.shape)\n",
    "\n",
    "def train_predict(X):\n",
    "    # X -> [batch, 100, 28]\n",
    "    pass\n",
    "\n",
    "# def train(X, y):\n",
    "#     # X -> [batch, 100, 26]\n",
    "#     # y -> [batch, 5]\n",
    "#     batch = 2 * 10 * 19 * 79\n",
    "#     max_epochs = 10\n",
    "#     for epoch in max_epochs:\n",
    "#         # todo: train, test\n",
    "#         train_num = X_train.shape[0]\n",
    "#         for i in train_num:"
   ]
  },
  {
   "cell_type": "code",
   "execution_count": null,
   "metadata": {},
   "outputs": [
    {
     "ename": "NameError",
     "evalue": "name 'csv' is not defined",
     "output_type": "error",
     "traceback": [
      "\u001b[0;31m---------------------------------------------------------------------------\u001b[0m",
      "\u001b[0;31mNameError\u001b[0m                                 Traceback (most recent call last)",
      "\u001b[1;32m/home/luohk19/quant/final/final.ipynb Cell 6\u001b[0m in \u001b[0;36m<cell line: 1>\u001b[0;34m()\u001b[0m\n\u001b[0;32m----> <a href='vscode-notebook-cell://wsl%2Bubuntu-20.04/home/luohk19/quant/final/final.ipynb#W5sdnNjb2RlLXJlbW90ZQ%3D%3D?line=0'>1</a>\u001b[0m test_csv \u001b[39m=\u001b[39m pre_process(csv)\n\u001b[1;32m      <a href='vscode-notebook-cell://wsl%2Bubuntu-20.04/home/luohk19/quant/final/final.ipynb#W5sdnNjb2RlLXJlbW90ZQ%3D%3D?line=1'>2</a>\u001b[0m (test_csv[\u001b[39m'\u001b[39m\u001b[39mmidprice1\u001b[39m\u001b[39m'\u001b[39m] \u001b[39m!=\u001b[39m test_csv[\u001b[39m'\u001b[39m\u001b[39mmidprice2\u001b[39m\u001b[39m'\u001b[39m])\u001b[39m.\u001b[39many()\n",
      "\u001b[0;31mNameError\u001b[0m: name 'csv' is not defined"
     ]
    }
   ],
   "source": [
    "test_csv = pre_process(csv)\n",
    "(test_csv['midprice1'] != test_csv['midprice2']).any()"
   ]
  },
  {
   "cell_type": "code",
   "execution_count": null,
   "metadata": {},
   "outputs": [],
   "source": []
  }
 ],
 "metadata": {
  "kernelspec": {
   "display_name": "Python 3.8.10 64-bit",
   "language": "python",
   "name": "python3"
  },
  "language_info": {
   "codemirror_mode": {
    "name": "ipython",
    "version": 3
   },
   "file_extension": ".py",
   "mimetype": "text/x-python",
   "name": "python",
   "nbconvert_exporter": "python",
   "pygments_lexer": "ipython3",
   "version": "3.8.10"
  },
  "orig_nbformat": 4,
  "vscode": {
   "interpreter": {
    "hash": "31f2aee4e71d21fbe5cf8b01ff0e069b9275f58929596ceb00d14d90e3e16cd6"
   }
  }
 },
 "nbformat": 4,
 "nbformat_minor": 2
}
